{
 "cells": [
  {
   "cell_type": "code",
   "execution_count": 1,
   "metadata": {},
   "outputs": [],
   "source": [
    "import pandas as pd\n",
    "import numpy as np\n",
    "import gc\n",
    "from lightgbm import LGBMClassifier\n",
    "from sklearn.metrics import roc_auc_score\n",
    "from sklearn.model_selection import train_test_split\n",
    "import lightgbm\n",
    "from bayes_opt import BayesianOptimization"
   ]
  },
  {
   "cell_type": "code",
   "execution_count": 2,
   "metadata": {},
   "outputs": [],
   "source": [
    "data = pd.read_csv('cleandata/train.csv')\n",
    "data.fillna(np.nan, inplace=True)\n",
    "data.columns = [\"\".join (c if c.isalnum() else \"_\" for c in str(x)) for x in data.columns]\n",
    "data.replace([np.inf, -np.inf], np.nan, inplace=True)"
   ]
  },
  {
   "cell_type": "code",
   "execution_count": 3,
   "metadata": {},
   "outputs": [
    {
     "data": {
      "text/plain": [
       "27"
      ]
     },
     "execution_count": 3,
     "metadata": {},
     "output_type": "execute_result"
    }
   ],
   "source": [
    "Y = data['TARGET']\n",
    "X = data[list(data.columns[2:])]\n",
    "x_train, x_test, y_train, y_test = train_test_split(X,Y,test_size=0.2,random_state=0)\n",
    "del data\n",
    "gc.collect()"
   ]
  },
  {
   "cell_type": "code",
   "execution_count": 4,
   "metadata": {},
   "outputs": [
    {
     "name": "stdout",
     "output_type": "stream",
     "text": [
      "|   iter    |  target   | colsam... | learni... | max_depth | min_ch... | min_da... | min_sp... | n_esti... | num_le... | reg_alpha | reg_la... | subsample |\n",
      "-------------------------------------------------------------------------------------------------------------------------------------------------------------\n"
     ]
    },
    {
     "name": "stderr",
     "output_type": "stream",
     "text": [
      "C:\\Users\\alanl\\Anaconda3\\lib\\site-packages\\lightgbm\\engine.py:503: UserWarning: Found `n_estimators` in params. Will use it instead of argument\n",
      "  warnings.warn(\"Found `{}` in params. Will use it instead of argument\".format(alias))\n"
     ]
    },
    {
     "name": "stdout",
     "output_type": "stream",
     "text": [
      "[200]\tcv_agg's auc: 0.786219 + 0.00343571\n",
      "[400]\tcv_agg's auc: 0.786828 + 0.00321705\n",
      "[600]\tcv_agg's auc: 0.78558 + 0.00332422\n",
      "[800]\tcv_agg's auc: 0.783813 + 0.00375874\n",
      "[1000]\tcv_agg's auc: 0.782268 + 0.00387711\n",
      "[1200]\tcv_agg's auc: 0.780584 + 0.00392295\n",
      "| \u001b[0m 1       \u001b[0m | \u001b[0m 0.787   \u001b[0m | \u001b[0m 0.5391  \u001b[0m | \u001b[0m 0.0718  \u001b[0m | \u001b[0m 8.014   \u001b[0m | \u001b[0m 29.52   \u001b[0m | \u001b[0m 481.3   \u001b[0m | \u001b[0m 0.06494 \u001b[0m | \u001b[0m 5.501e+0\u001b[0m | \u001b[0m 42.84   \u001b[0m | \u001b[0m 2.891   \u001b[0m | \u001b[0m 1.15    \u001b[0m | \u001b[0m 0.8959  \u001b[0m |\n"
     ]
    },
    {
     "name": "stderr",
     "output_type": "stream",
     "text": [
      "C:\\Users\\alanl\\Anaconda3\\lib\\site-packages\\lightgbm\\engine.py:503: UserWarning: Found `n_estimators` in params. Will use it instead of argument\n",
      "  warnings.warn(\"Found `{}` in params. Will use it instead of argument\".format(alias))\n"
     ]
    },
    {
     "name": "stdout",
     "output_type": "stream",
     "text": [
      "[200]\tcv_agg's auc: 0.785941 + 0.00320549\n",
      "[400]\tcv_agg's auc: 0.787363 + 0.00310549\n",
      "[600]\tcv_agg's auc: 0.786947 + 0.00313445\n",
      "[800]\tcv_agg's auc: 0.786155 + 0.00321708\n",
      "[1000]\tcv_agg's auc: 0.785062 + 0.00319653\n",
      "[1200]\tcv_agg's auc: 0.783924 + 0.00323221\n",
      "| \u001b[95m 2       \u001b[0m | \u001b[95m 0.7875  \u001b[0m | \u001b[95m 0.5231  \u001b[0m | \u001b[95m 0.05724 \u001b[0m | \u001b[95m 9.628   \u001b[0m | \u001b[95m 8.197   \u001b[0m | \u001b[95m 178.4   \u001b[0m | \u001b[95m 0.003002\u001b[0m | \u001b[95m 8.661e+0\u001b[0m | \u001b[95m 40.56   \u001b[0m | \u001b[95m 2.61    \u001b[0m | \u001b[95m 2.936   \u001b[0m | \u001b[95m 0.8996  \u001b[0m |\n"
     ]
    },
    {
     "name": "stderr",
     "output_type": "stream",
     "text": [
      "C:\\Users\\alanl\\Anaconda3\\lib\\site-packages\\lightgbm\\engine.py:503: UserWarning: Found `n_estimators` in params. Will use it instead of argument\n",
      "  warnings.warn(\"Found `{}` in params. Will use it instead of argument\".format(alias))\n"
     ]
    },
    {
     "name": "stdout",
     "output_type": "stream",
     "text": [
      "[200]\tcv_agg's auc: 0.784327 + 0.0034967\n",
      "[400]\tcv_agg's auc: 0.785617 + 0.00360471\n",
      "[600]\tcv_agg's auc: 0.784882 + 0.00374952\n",
      "[800]\tcv_agg's auc: 0.783954 + 0.003728\n",
      "[1000]\tcv_agg's auc: 0.782512 + 0.00386147\n",
      "[1200]\tcv_agg's auc: 0.780974 + 0.00426796\n",
      "| \u001b[0m 3       \u001b[0m | \u001b[0m 0.7857  \u001b[0m | \u001b[0m 0.4692  \u001b[0m | \u001b[0m 0.07827 \u001b[0m | \u001b[0m 5.591   \u001b[0m | \u001b[0m 33.8    \u001b[0m | \u001b[0m 229.0   \u001b[0m | \u001b[0m 0.09452 \u001b[0m | \u001b[0m 6.175e+0\u001b[0m | \u001b[0m 33.29   \u001b[0m | \u001b[0m 0.7937  \u001b[0m | \u001b[0m 2.323   \u001b[0m | \u001b[0m 0.7281  \u001b[0m |\n"
     ]
    },
    {
     "name": "stderr",
     "output_type": "stream",
     "text": [
      "C:\\Users\\alanl\\Anaconda3\\lib\\site-packages\\lightgbm\\engine.py:503: UserWarning: Found `n_estimators` in params. Will use it instead of argument\n",
      "  warnings.warn(\"Found `{}` in params. Will use it instead of argument\".format(alias))\n"
     ]
    },
    {
     "name": "stdout",
     "output_type": "stream",
     "text": [
      "[200]\tcv_agg's auc: 0.748909 + 0.00315549\n",
      "[400]\tcv_agg's auc: 0.755393 + 0.00327523\n",
      "[600]\tcv_agg's auc: 0.7606 + 0.00339503\n",
      "[800]\tcv_agg's auc: 0.764977 + 0.00367598\n",
      "[1000]\tcv_agg's auc: 0.768621 + 0.00385639\n",
      "[1200]\tcv_agg's auc: 0.771882 + 0.00403955\n",
      "[1400]\tcv_agg's auc: 0.77465 + 0.00402691\n",
      "[1600]\tcv_agg's auc: 0.776908 + 0.00397327\n",
      "[1800]\tcv_agg's auc: 0.778738 + 0.00396106\n",
      "[2000]\tcv_agg's auc: 0.780265 + 0.00397127\n",
      "[2200]\tcv_agg's auc: 0.781503 + 0.00393769\n",
      "[2400]\tcv_agg's auc: 0.782518 + 0.00388783\n",
      "[2600]\tcv_agg's auc: 0.783398 + 0.00381039\n",
      "[2800]\tcv_agg's auc: 0.78414 + 0.00377953\n",
      "[3000]\tcv_agg's auc: 0.784773 + 0.00373817\n",
      "[3200]\tcv_agg's auc: 0.785325 + 0.00368575\n",
      "[3400]\tcv_agg's auc: 0.78583 + 0.0036312\n",
      "[3600]\tcv_agg's auc: 0.786253 + 0.00357092\n",
      "[3800]\tcv_agg's auc: 0.786631 + 0.00350344\n",
      "[4000]\tcv_agg's auc: 0.786952 + 0.00345124\n",
      "[4200]\tcv_agg's auc: 0.787251 + 0.00338117\n",
      "[4400]\tcv_agg's auc: 0.787526 + 0.00335168\n",
      "[4600]\tcv_agg's auc: 0.78777 + 0.00333357\n",
      "[4800]\tcv_agg's auc: 0.787987 + 0.00332744\n",
      "[5000]\tcv_agg's auc: 0.788221 + 0.00329861\n",
      "[5200]\tcv_agg's auc: 0.78843 + 0.00327571\n",
      "[5400]\tcv_agg's auc: 0.788589 + 0.00324938\n",
      "[5600]\tcv_agg's auc: 0.788733 + 0.00322844\n",
      "[5800]\tcv_agg's auc: 0.788877 + 0.00323547\n",
      "[6000]\tcv_agg's auc: 0.789003 + 0.00324398\n",
      "[6200]\tcv_agg's auc: 0.789125 + 0.00324261\n",
      "[6400]\tcv_agg's auc: 0.789227 + 0.00323127\n",
      "[6600]\tcv_agg's auc: 0.789321 + 0.00324922\n",
      "[6800]\tcv_agg's auc: 0.78942 + 0.00324291\n",
      "[7000]\tcv_agg's auc: 0.789492 + 0.00323136\n",
      "[7200]\tcv_agg's auc: 0.789569 + 0.00323873\n",
      "[7400]\tcv_agg's auc: 0.789656 + 0.00324733\n",
      "| \u001b[95m 4       \u001b[0m | \u001b[95m 0.7897  \u001b[0m | \u001b[95m 0.5547  \u001b[0m | \u001b[95m 0.00286 \u001b[0m | \u001b[95m 8.088   \u001b[0m | \u001b[95m 32.54   \u001b[0m | \u001b[95m 655.2   \u001b[0m | \u001b[95m 0.09443 \u001b[0m | \u001b[95m 7.455e+0\u001b[0m | \u001b[95m 32.19   \u001b[0m | \u001b[95m 1.311   \u001b[0m | \u001b[95m 2.093   \u001b[0m | \u001b[95m 0.5301  \u001b[0m |\n"
     ]
    },
    {
     "name": "stderr",
     "output_type": "stream",
     "text": [
      "C:\\Users\\alanl\\Anaconda3\\lib\\site-packages\\lightgbm\\engine.py:503: UserWarning: Found `n_estimators` in params. Will use it instead of argument\n",
      "  warnings.warn(\"Found `{}` in params. Will use it instead of argument\".format(alias))\n"
     ]
    },
    {
     "name": "stdout",
     "output_type": "stream",
     "text": [
      "[200]\tcv_agg's auc: 0.784285 + 0.00362413\n",
      "[400]\tcv_agg's auc: 0.786766 + 0.0035119\n",
      "[600]\tcv_agg's auc: 0.786631 + 0.0035399\n",
      "[800]\tcv_agg's auc: 0.785679 + 0.00361125\n",
      "[1000]\tcv_agg's auc: 0.78431 + 0.00345171\n",
      "[1200]\tcv_agg's auc: 0.782872 + 0.00370474\n",
      "[1400]\tcv_agg's auc: 0.781525 + 0.00406788\n",
      "| \u001b[0m 5       \u001b[0m | \u001b[0m 0.787   \u001b[0m | \u001b[0m 0.6334  \u001b[0m | \u001b[0m 0.06739 \u001b[0m | \u001b[0m 6.052   \u001b[0m | \u001b[0m 10.8    \u001b[0m | \u001b[0m 383.9   \u001b[0m | \u001b[0m 0.03701 \u001b[0m | \u001b[0m 6.562e+0\u001b[0m | \u001b[0m 33.77   \u001b[0m | \u001b[0m 2.965   \u001b[0m | \u001b[0m 0.3061  \u001b[0m | \u001b[0m 0.6044  \u001b[0m |\n"
     ]
    },
    {
     "name": "stderr",
     "output_type": "stream",
     "text": [
      "C:\\Users\\alanl\\Anaconda3\\lib\\site-packages\\lightgbm\\engine.py:503: UserWarning: Found `n_estimators` in params. Will use it instead of argument\n",
      "  warnings.warn(\"Found `{}` in params. Will use it instead of argument\".format(alias))\n"
     ]
    },
    {
     "name": "stdout",
     "output_type": "stream",
     "text": [
      "[200]\tcv_agg's auc: 0.782486 + 0.00379529\n",
      "[400]\tcv_agg's auc: 0.787243 + 0.00348125\n",
      "[600]\tcv_agg's auc: 0.788402 + 0.00344243\n",
      "[800]\tcv_agg's auc: 0.788428 + 0.00378179\n",
      "[1000]\tcv_agg's auc: 0.788139 + 0.0040706\n",
      "[1200]\tcv_agg's auc: 0.787625 + 0.00419447\n",
      "[1400]\tcv_agg's auc: 0.786964 + 0.00419664\n",
      "[1600]\tcv_agg's auc: 0.786365 + 0.004106\n",
      "| \u001b[0m 6       \u001b[0m | \u001b[0m 0.7885  \u001b[0m | \u001b[0m 0.7331  \u001b[0m | \u001b[0m 0.03487 \u001b[0m | \u001b[0m 8.656   \u001b[0m | \u001b[0m 36.84   \u001b[0m | \u001b[0m 998.5   \u001b[0m | \u001b[0m 0.01208 \u001b[0m | \u001b[0m 2.017e+0\u001b[0m | \u001b[0m 39.96   \u001b[0m | \u001b[0m 1.706   \u001b[0m | \u001b[0m 2.073   \u001b[0m | \u001b[0m 0.8768  \u001b[0m |\n"
     ]
    },
    {
     "name": "stderr",
     "output_type": "stream",
     "text": [
      "C:\\Users\\alanl\\Anaconda3\\lib\\site-packages\\lightgbm\\engine.py:503: UserWarning: Found `n_estimators` in params. Will use it instead of argument\n",
      "  warnings.warn(\"Found `{}` in params. Will use it instead of argument\".format(alias))\n"
     ]
    },
    {
     "name": "stdout",
     "output_type": "stream",
     "text": [
      "[200]\tcv_agg's auc: 0.7862 + 0.00400954\n",
      "[400]\tcv_agg's auc: 0.786357 + 0.00388533\n",
      "[600]\tcv_agg's auc: 0.784907 + 0.00367342\n",
      "[800]\tcv_agg's auc: 0.783039 + 0.00413348\n",
      "[1000]\tcv_agg's auc: 0.781352 + 0.00396594\n",
      "[1200]\tcv_agg's auc: 0.779736 + 0.00386054\n",
      "| \u001b[0m 7       \u001b[0m | \u001b[0m 0.7867  \u001b[0m | \u001b[0m 0.2938  \u001b[0m | \u001b[0m 0.08932 \u001b[0m | \u001b[0m 9.973   \u001b[0m | \u001b[0m 11.51   \u001b[0m | \u001b[0m 978.6   \u001b[0m | \u001b[0m 0.04894 \u001b[0m | \u001b[0m 9.985e+0\u001b[0m | \u001b[0m 29.54   \u001b[0m | \u001b[0m 2.841   \u001b[0m | \u001b[0m 2.649   \u001b[0m | \u001b[0m 0.5812  \u001b[0m |\n"
     ]
    },
    {
     "name": "stderr",
     "output_type": "stream",
     "text": [
      "C:\\Users\\alanl\\Anaconda3\\lib\\site-packages\\lightgbm\\engine.py:503: UserWarning: Found `n_estimators` in params. Will use it instead of argument\n",
      "  warnings.warn(\"Found `{}` in params. Will use it instead of argument\".format(alias))\n"
     ]
    },
    {
     "name": "stdout",
     "output_type": "stream",
     "text": [
      "[200]\tcv_agg's auc: 0.785617 + 0.00364534\n",
      "[400]\tcv_agg's auc: 0.787344 + 0.0034488\n",
      "[600]\tcv_agg's auc: 0.786945 + 0.00363609\n",
      "[800]\tcv_agg's auc: 0.785851 + 0.00402169\n",
      "[1000]\tcv_agg's auc: 0.784663 + 0.00400572\n",
      "[1200]\tcv_agg's auc: 0.783158 + 0.00412393\n",
      "| \u001b[0m 8       \u001b[0m | \u001b[0m 0.7874  \u001b[0m | \u001b[0m 0.5856  \u001b[0m | \u001b[0m 0.0681  \u001b[0m | \u001b[0m 6.557   \u001b[0m | \u001b[0m 6.477   \u001b[0m | \u001b[0m 998.0   \u001b[0m | \u001b[0m 0.05784 \u001b[0m | \u001b[0m 6.18e+03\u001b[0m | \u001b[0m 39.37   \u001b[0m | \u001b[0m 1.347   \u001b[0m | \u001b[0m 1.552   \u001b[0m | \u001b[0m 0.6073  \u001b[0m |\n"
     ]
    },
    {
     "name": "stderr",
     "output_type": "stream",
     "text": [
      "C:\\Users\\alanl\\Anaconda3\\lib\\site-packages\\lightgbm\\engine.py:503: UserWarning: Found `n_estimators` in params. Will use it instead of argument\n",
      "  warnings.warn(\"Found `{}` in params. Will use it instead of argument\".format(alias))\n"
     ]
    },
    {
     "name": "stdout",
     "output_type": "stream",
     "text": [
      "[200]\tcv_agg's auc: 0.785124 + 0.00361702\n",
      "[400]\tcv_agg's auc: 0.787065 + 0.00357216\n",
      "[600]\tcv_agg's auc: 0.786432 + 0.0033976\n",
      "[800]\tcv_agg's auc: 0.785501 + 0.00344241\n",
      "[1000]\tcv_agg's auc: 0.784012 + 0.00362046\n",
      "[1200]\tcv_agg's auc: 0.782756 + 0.00353949\n",
      "| \u001b[0m 9       \u001b[0m | \u001b[0m 0.7871  \u001b[0m | \u001b[0m 0.2621  \u001b[0m | \u001b[0m 0.07979 \u001b[0m | \u001b[0m 6.2     \u001b[0m | \u001b[0m 49.24   \u001b[0m | \u001b[0m 998.5   \u001b[0m | \u001b[0m 0.04616 \u001b[0m | \u001b[0m 2.01e+03\u001b[0m | \u001b[0m 42.5    \u001b[0m | \u001b[0m 1.99    \u001b[0m | \u001b[0m 1.251   \u001b[0m | \u001b[0m 0.8973  \u001b[0m |\n"
     ]
    },
    {
     "name": "stderr",
     "output_type": "stream",
     "text": [
      "C:\\Users\\alanl\\Anaconda3\\lib\\site-packages\\lightgbm\\engine.py:503: UserWarning: Found `n_estimators` in params. Will use it instead of argument\n",
      "  warnings.warn(\"Found `{}` in params. Will use it instead of argument\".format(alias))\n"
     ]
    },
    {
     "name": "stdout",
     "output_type": "stream",
     "text": [
      "[200]\tcv_agg's auc: 0.78385 + 0.00392264\n",
      "[400]\tcv_agg's auc: 0.787302 + 0.00330309\n",
      "[600]\tcv_agg's auc: 0.787553 + 0.0032865\n",
      "[800]\tcv_agg's auc: 0.787006 + 0.00351091\n",
      "[1000]\tcv_agg's auc: 0.786441 + 0.00335408\n",
      "[1200]\tcv_agg's auc: 0.785629 + 0.00320735\n",
      "[1400]\tcv_agg's auc: 0.784616 + 0.00334118\n",
      "| \u001b[0m 10      \u001b[0m | \u001b[0m 0.7876  \u001b[0m | \u001b[0m 0.5991  \u001b[0m | \u001b[0m 0.04569 \u001b[0m | \u001b[0m 7.046   \u001b[0m | \u001b[0m 8.285   \u001b[0m | \u001b[0m 127.3   \u001b[0m | \u001b[0m 0.02775 \u001b[0m | \u001b[0m 2.034e+0\u001b[0m | \u001b[0m 35.22   \u001b[0m | \u001b[0m 1.891   \u001b[0m | \u001b[0m 0.362   \u001b[0m | \u001b[0m 0.6344  \u001b[0m |\n"
     ]
    },
    {
     "name": "stderr",
     "output_type": "stream",
     "text": [
      "C:\\Users\\alanl\\Anaconda3\\lib\\site-packages\\lightgbm\\engine.py:503: UserWarning: Found `n_estimators` in params. Will use it instead of argument\n",
      "  warnings.warn(\"Found `{}` in params. Will use it instead of argument\".format(alias))\n"
     ]
    },
    {
     "name": "stdout",
     "output_type": "stream",
     "text": [
      "[200]\tcv_agg's auc: 0.783974 + 0.00367095\n",
      "[400]\tcv_agg's auc: 0.786998 + 0.00383079\n",
      "[600]\tcv_agg's auc: 0.787132 + 0.00371931\n",
      "[800]\tcv_agg's auc: 0.786595 + 0.00382663\n",
      "[1000]\tcv_agg's auc: 0.785432 + 0.003701\n",
      "[1200]\tcv_agg's auc: 0.784846 + 0.00366055\n",
      "[1400]\tcv_agg's auc: 0.783998 + 0.00346267\n",
      "| \u001b[0m 11      \u001b[0m | \u001b[0m 0.7874  \u001b[0m | \u001b[0m 0.1021  \u001b[0m | \u001b[0m 0.061   \u001b[0m | \u001b[0m 9.414   \u001b[0m | \u001b[0m 45.7    \u001b[0m | \u001b[0m 102.8   \u001b[0m | \u001b[0m 0.007992\u001b[0m | \u001b[0m 9.952e+0\u001b[0m | \u001b[0m 28.59   \u001b[0m | \u001b[0m 0.5413  \u001b[0m | \u001b[0m 0.4948  \u001b[0m | \u001b[0m 0.606   \u001b[0m |\n"
     ]
    },
    {
     "name": "stderr",
     "output_type": "stream",
     "text": [
      "C:\\Users\\alanl\\Anaconda3\\lib\\site-packages\\lightgbm\\engine.py:503: UserWarning: Found `n_estimators` in params. Will use it instead of argument\n",
      "  warnings.warn(\"Found `{}` in params. Will use it instead of argument\".format(alias))\n"
     ]
    },
    {
     "name": "stdout",
     "output_type": "stream",
     "text": [
      "[200]\tcv_agg's auc: 0.773986 + 0.00410416\n",
      "[400]\tcv_agg's auc: 0.782735 + 0.00405521\n",
      "[600]\tcv_agg's auc: 0.785742 + 0.00376751\n",
      "[800]\tcv_agg's auc: 0.787128 + 0.00357242\n",
      "[1000]\tcv_agg's auc: 0.788045 + 0.00360842\n",
      "[1200]\tcv_agg's auc: 0.788397 + 0.00368834\n",
      "[1400]\tcv_agg's auc: 0.788564 + 0.00371436\n",
      "[1600]\tcv_agg's auc: 0.788702 + 0.00373889\n",
      "[1800]\tcv_agg's auc: 0.788782 + 0.00370436\n",
      "[2000]\tcv_agg's auc: 0.788579 + 0.00381412\n",
      "[2200]\tcv_agg's auc: 0.788438 + 0.00375308\n",
      "[2400]\tcv_agg's auc: 0.788178 + 0.00377768\n",
      "[2600]\tcv_agg's auc: 0.787902 + 0.00380034\n",
      "| \u001b[0m 12      \u001b[0m | \u001b[0m 0.7888  \u001b[0m | \u001b[0m 0.5953  \u001b[0m | \u001b[0m 0.02276 \u001b[0m | \u001b[0m 5.606   \u001b[0m | \u001b[0m 46.25   \u001b[0m | \u001b[0m 988.2   \u001b[0m | \u001b[0m 0.01498 \u001b[0m | \u001b[0m 9.901e+0\u001b[0m | \u001b[0m 27.45   \u001b[0m | \u001b[0m 0.19    \u001b[0m | \u001b[0m 1.148   \u001b[0m | \u001b[0m 0.6711  \u001b[0m |\n"
     ]
    },
    {
     "name": "stderr",
     "output_type": "stream",
     "text": [
      "C:\\Users\\alanl\\Anaconda3\\lib\\site-packages\\lightgbm\\engine.py:503: UserWarning: Found `n_estimators` in params. Will use it instead of argument\n",
      "  warnings.warn(\"Found `{}` in params. Will use it instead of argument\".format(alias))\n"
     ]
    },
    {
     "name": "stdout",
     "output_type": "stream",
     "text": [
      "[200]\tcv_agg's auc: 0.786317 + 0.00328312\n",
      "[400]\tcv_agg's auc: 0.784607 + 0.00393123\n",
      "[600]\tcv_agg's auc: 0.782317 + 0.00377971\n",
      "[800]\tcv_agg's auc: 0.779869 + 0.00366628\n",
      "[1000]\tcv_agg's auc: 0.777155 + 0.00353864\n",
      "[1200]\tcv_agg's auc: 0.774894 + 0.00371928\n",
      "| \u001b[0m 13      \u001b[0m | \u001b[0m 0.7864  \u001b[0m | \u001b[0m 0.6389  \u001b[0m | \u001b[0m 0.09276 \u001b[0m | \u001b[0m 9.212   \u001b[0m | \u001b[0m 47.43   \u001b[0m | \u001b[0m 981.6   \u001b[0m | \u001b[0m 0.07378 \u001b[0m | \u001b[0m 9.852e+0\u001b[0m | \u001b[0m 41.66   \u001b[0m | \u001b[0m 0.6787  \u001b[0m | \u001b[0m 0.4303  \u001b[0m | \u001b[0m 0.9683  \u001b[0m |\n"
     ]
    },
    {
     "name": "stderr",
     "output_type": "stream",
     "text": [
      "C:\\Users\\alanl\\Anaconda3\\lib\\site-packages\\lightgbm\\engine.py:503: UserWarning: Found `n_estimators` in params. Will use it instead of argument\n",
      "  warnings.warn(\"Found `{}` in params. Will use it instead of argument\".format(alias))\n"
     ]
    },
    {
     "name": "stdout",
     "output_type": "stream",
     "text": [
      "[200]\tcv_agg's auc: 0.783043 + 0.00394669\n",
      "[400]\tcv_agg's auc: 0.787148 + 0.00366016\n",
      "[600]\tcv_agg's auc: 0.788207 + 0.00353121\n",
      "[800]\tcv_agg's auc: 0.78831 + 0.00384531\n",
      "[1000]\tcv_agg's auc: 0.788149 + 0.00388888\n",
      "[1200]\tcv_agg's auc: 0.787843 + 0.00396433\n",
      "[1400]\tcv_agg's auc: 0.7872 + 0.00414235\n",
      "[1600]\tcv_agg's auc: 0.786704 + 0.00416515\n",
      "| \u001b[0m 14      \u001b[0m | \u001b[0m 0.7884  \u001b[0m | \u001b[0m 0.6587  \u001b[0m | \u001b[0m 0.03925 \u001b[0m | \u001b[0m 9.422   \u001b[0m | \u001b[0m 12.83   \u001b[0m | \u001b[0m 991.2   \u001b[0m | \u001b[0m 0.01891 \u001b[0m | \u001b[0m 2.034e+0\u001b[0m | \u001b[0m 28.28   \u001b[0m | \u001b[0m 0.9919  \u001b[0m | \u001b[0m 1.912   \u001b[0m | \u001b[0m 0.9757  \u001b[0m |\n"
     ]
    },
    {
     "name": "stderr",
     "output_type": "stream",
     "text": [
      "C:\\Users\\alanl\\Anaconda3\\lib\\site-packages\\lightgbm\\engine.py:503: UserWarning: Found `n_estimators` in params. Will use it instead of argument\n",
      "  warnings.warn(\"Found `{}` in params. Will use it instead of argument\".format(alias))\n"
     ]
    },
    {
     "name": "stdout",
     "output_type": "stream",
     "text": [
      "[200]\tcv_agg's auc: 0.782788 + 0.00421735\n",
      "[400]\tcv_agg's auc: 0.787534 + 0.0037891\n",
      "[600]\tcv_agg's auc: 0.788486 + 0.00383881\n",
      "[800]\tcv_agg's auc: 0.788557 + 0.0037876\n",
      "[1000]\tcv_agg's auc: 0.788459 + 0.00399198\n",
      "[1200]\tcv_agg's auc: 0.788097 + 0.00410584\n",
      "[1400]\tcv_agg's auc: 0.787696 + 0.00395859\n",
      "[1600]\tcv_agg's auc: 0.787128 + 0.00385311\n",
      "[1800]\tcv_agg's auc: 0.786554 + 0.00396172\n",
      "| \u001b[0m 15      \u001b[0m | \u001b[0m 0.7887  \u001b[0m | \u001b[0m 0.3887  \u001b[0m | \u001b[0m 0.04159 \u001b[0m | \u001b[0m 7.756   \u001b[0m | \u001b[0m 48.31   \u001b[0m | \u001b[0m 123.8   \u001b[0m | \u001b[0m 0.09984 \u001b[0m | \u001b[0m 2.139e+0\u001b[0m | \u001b[0m 25.52   \u001b[0m | \u001b[0m 1.579   \u001b[0m | \u001b[0m 0.3315  \u001b[0m | \u001b[0m 0.9572  \u001b[0m |\n"
     ]
    },
    {
     "name": "stderr",
     "output_type": "stream",
     "text": [
      "C:\\Users\\alanl\\Anaconda3\\lib\\site-packages\\lightgbm\\engine.py:503: UserWarning: Found `n_estimators` in params. Will use it instead of argument\n",
      "  warnings.warn(\"Found `{}` in params. Will use it instead of argument\".format(alias))\n"
     ]
    },
    {
     "name": "stdout",
     "output_type": "stream",
     "text": [
      "[200]\tcv_agg's auc: 0.784059 + 0.0034781\n",
      "[400]\tcv_agg's auc: 0.786577 + 0.00341023\n",
      "[600]\tcv_agg's auc: 0.78651 + 0.00369081\n",
      "[800]\tcv_agg's auc: 0.785629 + 0.0036405\n",
      "[1000]\tcv_agg's auc: 0.784609 + 0.0035832\n",
      "[1200]\tcv_agg's auc: 0.783724 + 0.00348734\n",
      "[1400]\tcv_agg's auc: 0.782613 + 0.00345004\n",
      "| \u001b[0m 16      \u001b[0m | \u001b[0m 0.7868  \u001b[0m | \u001b[0m 0.5008  \u001b[0m | \u001b[0m 0.08164 \u001b[0m | \u001b[0m 5.349   \u001b[0m | \u001b[0m 48.75   \u001b[0m | \u001b[0m 134.7   \u001b[0m | \u001b[0m 0.04643 \u001b[0m | \u001b[0m 2.006e+0\u001b[0m | \u001b[0m 36.72   \u001b[0m | \u001b[0m 0.5188  \u001b[0m | \u001b[0m 0.2833  \u001b[0m | \u001b[0m 0.942   \u001b[0m |\n"
     ]
    },
    {
     "name": "stderr",
     "output_type": "stream",
     "text": [
      "C:\\Users\\alanl\\Anaconda3\\lib\\site-packages\\lightgbm\\engine.py:503: UserWarning: Found `n_estimators` in params. Will use it instead of argument\n",
      "  warnings.warn(\"Found `{}` in params. Will use it instead of argument\".format(alias))\n"
     ]
    },
    {
     "name": "stdout",
     "output_type": "stream",
     "text": [
      "[200]\tcv_agg's auc: 0.785189 + 0.00366745\n",
      "[400]\tcv_agg's auc: 0.786665 + 0.00386939\n",
      "[600]\tcv_agg's auc: 0.78625 + 0.00372069\n",
      "[800]\tcv_agg's auc: 0.78531 + 0.00390507\n",
      "[1000]\tcv_agg's auc: 0.783841 + 0.00383632\n",
      "[1200]\tcv_agg's auc: 0.782607 + 0.0038148\n",
      "| \u001b[0m 17      \u001b[0m | \u001b[0m 0.7868  \u001b[0m | \u001b[0m 0.7164  \u001b[0m | \u001b[0m 0.0679  \u001b[0m | \u001b[0m 7.439   \u001b[0m | \u001b[0m 5.637   \u001b[0m | \u001b[0m 978.6   \u001b[0m | \u001b[0m 0.05338 \u001b[0m | \u001b[0m 2.176e+0\u001b[0m | \u001b[0m 29.69   \u001b[0m | \u001b[0m 1.176   \u001b[0m | \u001b[0m 1.309   \u001b[0m | \u001b[0m 0.836   \u001b[0m |\n"
     ]
    },
    {
     "name": "stderr",
     "output_type": "stream",
     "text": [
      "C:\\Users\\alanl\\Anaconda3\\lib\\site-packages\\lightgbm\\engine.py:503: UserWarning: Found `n_estimators` in params. Will use it instead of argument\n",
      "  warnings.warn(\"Found `{}` in params. Will use it instead of argument\".format(alias))\n"
     ]
    },
    {
     "name": "stdout",
     "output_type": "stream",
     "text": [
      "[200]\tcv_agg's auc: 0.763655 + 0.00402959\n",
      "[400]\tcv_agg's auc: 0.777259 + 0.00411762\n",
      "[600]\tcv_agg's auc: 0.782758 + 0.00391994\n",
      "[800]\tcv_agg's auc: 0.785316 + 0.00369768\n",
      "[1000]\tcv_agg's auc: 0.786742 + 0.0035821\n",
      "[1200]\tcv_agg's auc: 0.787742 + 0.00349977\n",
      "[1400]\tcv_agg's auc: 0.788337 + 0.00348145\n",
      "[1600]\tcv_agg's auc: 0.788825 + 0.00349264\n",
      "[1800]\tcv_agg's auc: 0.789036 + 0.00343641\n",
      "[2000]\tcv_agg's auc: 0.789221 + 0.00340508\n",
      "[2200]\tcv_agg's auc: 0.789337 + 0.00344146\n",
      "[2400]\tcv_agg's auc: 0.789416 + 0.00352225\n",
      "[2600]\tcv_agg's auc: 0.789447 + 0.00361265\n",
      "[2800]\tcv_agg's auc: 0.789458 + 0.00360202\n",
      "[3000]\tcv_agg's auc: 0.789386 + 0.00358724\n",
      "[3200]\tcv_agg's auc: 0.789336 + 0.00353563\n",
      "[3400]\tcv_agg's auc: 0.789277 + 0.00352567\n",
      "[3600]\tcv_agg's auc: 0.789201 + 0.00351779\n",
      "| \u001b[0m 18      \u001b[0m | \u001b[0m 0.7895  \u001b[0m | \u001b[0m 0.6786  \u001b[0m | \u001b[0m 0.0123  \u001b[0m | \u001b[0m 8.85    \u001b[0m | \u001b[0m 47.33   \u001b[0m | \u001b[0m 993.3   \u001b[0m | \u001b[0m 0.08713 \u001b[0m | \u001b[0m 4.655e+0\u001b[0m | \u001b[0m 28.04   \u001b[0m | \u001b[0m 0.822   \u001b[0m | \u001b[0m 1.436   \u001b[0m | \u001b[0m 0.6601  \u001b[0m |\n"
     ]
    },
    {
     "name": "stderr",
     "output_type": "stream",
     "text": [
      "C:\\Users\\alanl\\Anaconda3\\lib\\site-packages\\lightgbm\\engine.py:503: UserWarning: Found `n_estimators` in params. Will use it instead of argument\n",
      "  warnings.warn(\"Found `{}` in params. Will use it instead of argument\".format(alias))\n"
     ]
    },
    {
     "name": "stdout",
     "output_type": "stream",
     "text": [
      "[200]\tcv_agg's auc: 0.775337 + 0.0040584\n",
      "[400]\tcv_agg's auc: 0.784083 + 0.0038569\n",
      "[600]\tcv_agg's auc: 0.786822 + 0.00351738\n",
      "[800]\tcv_agg's auc: 0.788128 + 0.00354719\n",
      "[1000]\tcv_agg's auc: 0.788745 + 0.00358885\n",
      "[1200]\tcv_agg's auc: 0.789068 + 0.00364356\n",
      "[1400]\tcv_agg's auc: 0.789126 + 0.00364058\n",
      "[1600]\tcv_agg's auc: 0.789148 + 0.00370437\n",
      "[1800]\tcv_agg's auc: 0.78901 + 0.00364752\n",
      "[2000]\tcv_agg's auc: 0.788909 + 0.00374783\n",
      "[2200]\tcv_agg's auc: 0.788693 + 0.0038189\n",
      "[2400]\tcv_agg's auc: 0.788458 + 0.00396473\n",
      "| \u001b[0m 19      \u001b[0m | \u001b[0m 0.7892  \u001b[0m | \u001b[0m 0.6164  \u001b[0m | \u001b[0m 0.02309 \u001b[0m | \u001b[0m 7.995   \u001b[0m | \u001b[0m 49.85   \u001b[0m | \u001b[0m 980.9   \u001b[0m | \u001b[0m 0.06352 \u001b[0m | \u001b[0m 5.552e+0\u001b[0m | \u001b[0m 25.87   \u001b[0m | \u001b[0m 2.335   \u001b[0m | \u001b[0m 2.635   \u001b[0m | \u001b[0m 0.5393  \u001b[0m |\n"
     ]
    },
    {
     "name": "stderr",
     "output_type": "stream",
     "text": [
      "C:\\Users\\alanl\\Anaconda3\\lib\\site-packages\\lightgbm\\engine.py:503: UserWarning: Found `n_estimators` in params. Will use it instead of argument\n",
      "  warnings.warn(\"Found `{}` in params. Will use it instead of argument\".format(alias))\n"
     ]
    },
    {
     "name": "stdout",
     "output_type": "stream",
     "text": [
      "[200]\tcv_agg's auc: 0.770235 + 0.00390553\n",
      "[400]\tcv_agg's auc: 0.779318 + 0.00401118\n",
      "[600]\tcv_agg's auc: 0.783306 + 0.00393738\n",
      "[800]\tcv_agg's auc: 0.785299 + 0.00382482\n",
      "[1000]\tcv_agg's auc: 0.786546 + 0.0037114\n",
      "[1200]\tcv_agg's auc: 0.787467 + 0.00369455\n",
      "[1400]\tcv_agg's auc: 0.788058 + 0.00366581\n",
      "[1600]\tcv_agg's auc: 0.788538 + 0.00354745\n",
      "[1800]\tcv_agg's auc: 0.788714 + 0.00354246\n",
      "[2000]\tcv_agg's auc: 0.788934 + 0.0035717\n",
      "[2200]\tcv_agg's auc: 0.789114 + 0.00359319\n",
      "[2400]\tcv_agg's auc: 0.789154 + 0.003617\n",
      "[2600]\tcv_agg's auc: 0.789162 + 0.00367435\n",
      "[2800]\tcv_agg's auc: 0.789129 + 0.00371337\n",
      "[3000]\tcv_agg's auc: 0.78909 + 0.00365137\n",
      "[3200]\tcv_agg's auc: 0.789088 + 0.00367409\n",
      "[3400]\tcv_agg's auc: 0.789003 + 0.00365174\n",
      "[3600]\tcv_agg's auc: 0.788918 + 0.00362479\n",
      "| \u001b[0m 20      \u001b[0m | \u001b[0m 0.7892  \u001b[0m | \u001b[0m 0.3499  \u001b[0m | \u001b[0m 0.01867 \u001b[0m | \u001b[0m 5.133   \u001b[0m | \u001b[0m 49.73   \u001b[0m | \u001b[0m 977.4   \u001b[0m | \u001b[0m 0.01299 \u001b[0m | \u001b[0m 7.175e+0\u001b[0m | \u001b[0m 25.98   \u001b[0m | \u001b[0m 0.9443  \u001b[0m | \u001b[0m 1.841   \u001b[0m | \u001b[0m 0.5431  \u001b[0m |\n",
      "=============================================================================================================================================================\n"
     ]
    }
   ],
   "source": [
    "def bayes_optimization_gbm(X, Y, init_round=5, opt_round=15, n_folds=5, random_seed=0):\n",
    "    train_data = lightgbm.Dataset(data=X, label=Y)\n",
    "    # parameters\n",
    "    def lgb_eval(n_estimators, learning_rate, num_leaves, min_data_in_leaf, max_depth, reg_alpha, reg_lambda, min_split_gain, min_child_weight,colsample_bytree,subsample):\n",
    "        params = {'application':'binary', 'metric':'auc'}\n",
    "        params['n_estimators'] = max(int(round(n_estimators)),500)\n",
    "        params['learning_rate'] = min(learning_rate,0.3)\n",
    "        params['num_leaves'] = int(round(num_leaves))\n",
    "        params['min_data_in_leaf'] = int(round(min_data_in_leaf))\n",
    "        params['max_depth'] = int(round(max_depth))\n",
    "        params['reg_alpha'] = max(reg_alpha, 0)\n",
    "        params['reg_lambda'] = max(reg_lambda, 0)\n",
    "        params['min_split_gain'] = min_split_gain\n",
    "        params['min_child_weight'] = min_child_weight \n",
    "        params['colsample_bytree'] = max(min(colsample_bytree, 1), 0)\n",
    "        params['subsample'] = max(min(subsample, 1), 0)\n",
    "        \n",
    "        cv=lightgbm.cv(params,train_data,nfold=n_folds,seed=random_seed,early_stopping_rounds=1000,stratified=True,verbose_eval=200,metrics=['auc'])\n",
    "        return max(cv['auc-mean'])\n",
    "\n",
    "    gbmbo = BayesianOptimization(lgb_eval, {'n_estimators': (2000, 10000),\n",
    "                                            'learning_rate': (0.001, 0.1),\n",
    "                                            'num_leaves': (25, 45),\n",
    "                                            'min_data_in_leaf': (100, 1000),\n",
    "                                            'max_depth': (5, 10),\n",
    "                                            'reg_alpha': (0, 3),\n",
    "                                            'reg_lambda': (0, 3),\n",
    "                                            'min_split_gain': (0.001, 0.1),\n",
    "                                            'min_child_weight': (5, 50),\n",
    "                                            'colsample_bytree': (0.1, 0.9),\n",
    "                                            'subsample': (0.5, 1)},random_state=0)\n",
    "    # optimize\n",
    "    gbmbo.maximize(init_points=init_round, n_iter=opt_round)\n",
    "    \n",
    "    # return best parameters\n",
    "    return gbmbo.max\n",
    "\n",
    "best_params = bayes_optimization_gbm(x_train, y_train)"
   ]
  }
 ],
 "metadata": {
  "kernelspec": {
   "display_name": "Python 3",
   "language": "python",
   "name": "python3"
  },
  "language_info": {
   "codemirror_mode": {
    "name": "ipython",
    "version": 3
   },
   "file_extension": ".py",
   "mimetype": "text/x-python",
   "name": "python",
   "nbconvert_exporter": "python",
   "pygments_lexer": "ipython3",
   "version": "3.7.3"
  }
 },
 "nbformat": 4,
 "nbformat_minor": 2
}
